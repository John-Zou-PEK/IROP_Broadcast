{
 "cells": [
  {
   "cell_type": "code",
   "execution_count": 7,
   "id": "b7d36a3f",
   "metadata": {},
   "outputs": [
    {
     "data": {
      "text/plain": [
       "[array([0.13317475, 0.22848038]),\n",
       " array([0.85794903, 0.90405901]),\n",
       " array([0.21114121, 0.33611569]),\n",
       " array([0.56088865, 0.36564156]),\n",
       " array([0.10742852, 0.23761792])]"
      ]
     },
     "execution_count": 7,
     "metadata": {},
     "output_type": "execute_result"
    }
   ],
   "source": [
    "import numpy as np\n",
    "\n",
    "\n",
    "#Generates N nodes and returns an array of tuples of their position.\n",
    "def N_node_gen(N):\n",
    "    node_list = list()\n",
    "    for _ in range(N):\n",
    "        node_list.append(np.array((np.random.random(), np.random.random())))\n",
    "    return node_list\n",
    "\n",
    "N_node_gen(5)"
   ]
  }
 ],
 "metadata": {
  "kernelspec": {
   "display_name": "IROP_venv",
   "language": "python",
   "name": "python3"
  },
  "language_info": {
   "codemirror_mode": {
    "name": "ipython",
    "version": 3
   },
   "file_extension": ".py",
   "mimetype": "text/x-python",
   "name": "python",
   "nbconvert_exporter": "python",
   "pygments_lexer": "ipython3",
   "version": "3.12.7"
  }
 },
 "nbformat": 4,
 "nbformat_minor": 5
}
