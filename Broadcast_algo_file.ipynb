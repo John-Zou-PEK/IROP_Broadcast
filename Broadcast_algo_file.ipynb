{
 "cells": [
  {
   "cell_type": "code",
   "execution_count": 9,
   "id": "b7d36a3f",
   "metadata": {},
   "outputs": [
    {
     "data": {
      "text/plain": [
       "[array([0.05400742, 0.63444603]),\n",
       " array([0.12860957, 0.06762378]),\n",
       " array([0.35429638, 0.26400617]),\n",
       " array([0.45346923, 0.52606854]),\n",
       " array([0.88496425, 0.28261421])]"
      ]
     },
     "execution_count": 9,
     "metadata": {},
     "output_type": "execute_result"
    }
   ],
   "source": [
    "import numpy as np\n",
    "\n",
    "\n",
    "#Generates N nodes and returns an array of tuples of their position.\n",
    "def N_node_gen(N):\n",
    "    node_list = list()\n",
    "    for _ in range(N):\n",
    "        node_list.append(np.array((np.random.random(), np.random.random())))\n",
    "    return node_list\n",
    "\n",
    "test_nodes = N_node_gen(5)\n",
    "test_nodes"
   ]
  },
  {
   "cell_type": "code",
   "execution_count": 12,
   "id": "a7f34897",
   "metadata": {},
   "outputs": [
    {
     "data": {
      "text/plain": [
       "array([[0.        , 0.        , 0.04627228, 0.17219468, 0.        ],\n",
       "       [0.        , 0.        , 0.40166704, 0.        , 0.        ],\n",
       "       [0.04627228, 0.40166704, 0.        , 0.43960038, 0.        ],\n",
       "       [0.17219468, 0.        , 0.43960038, 0.        , 0.00912571],\n",
       "       [0.        , 0.        , 0.        , 0.00912571, 0.        ]])"
      ]
     },
     "execution_count": 12,
     "metadata": {},
     "output_type": "execute_result"
    }
   ],
   "source": [
    "import numpy as np\n",
    "\n",
    "#Returns adjacency matrix of the generated graph\n",
    "\n",
    "def adj_mat_gen(node_list, R):\n",
    "    N = len(node_list)\n",
    "    adj_mat = np.zeros((N, N), dtype=np.float64)\n",
    "    for i in range(N):\n",
    "        for j in range(i+1, N):\n",
    "            dist = np.linalg.norm(node_list[i]-node_list[j])\n",
    "            if dist < R:\n",
    "                adj_mat[i, j] = 1 - dist/R\n",
    "                adj_mat[j, i] = 1 - dist/R\n",
    "    return adj_mat\n",
    "\n",
    "test_adj_mat = adj_mat_gen(test_nodes, 0.5)\n",
    "\n",
    "test_adj_mat"
   ]
  },
  {
   "cell_type": "code",
   "execution_count": 15,
   "id": "e668ddd5",
   "metadata": {},
   "outputs": [
    {
     "data": {
      "text/plain": [
       "array([[1.        , 0.        , 0.        , 0.        , 0.        ],\n",
       "       [0.        , 1.        , 0.        , 0.        , 0.        ],\n",
       "       [0.97686386, 0.        , 0.02313614, 0.        , 0.        ],\n",
       "       [0.91390266, 0.        , 0.        , 0.08609734, 0.        ],\n",
       "       [0.        , 0.        , 0.        , 0.        , 1.        ]])"
      ]
     },
     "execution_count": 15,
     "metadata": {},
     "output_type": "execute_result"
    }
   ],
   "source": [
    "#Produces the matrix W(i)\n",
    "\n",
    "def W_i_gen(i, adj_mat, gamma):\n",
    "    i -= 1\n",
    "    W_i = np.zeros(np.shape(adj_mat), dtype=np.float64)\n",
    "    N = np.shape(adj_mat)[0]\n",
    "    for j in range(N):\n",
    "        if adj_mat[i, j]:\n",
    "            W_i[j, j] = gamma * adj_mat[i, j]\n",
    "            W_i[j, i] = 1 - gamma * adj_mat[i, j]\n",
    "        else:\n",
    "            W_i[j, j] = 1\n",
    "    return W_i\n",
    "\n",
    "test_W_1 = W_i_gen(1, test_adj_mat, 0.5)\n",
    "\n",
    "test_W_1"
   ]
  }
 ],
 "metadata": {
  "kernelspec": {
   "display_name": "IROP_venv",
   "language": "python",
   "name": "python3"
  },
  "language_info": {
   "codemirror_mode": {
    "name": "ipython",
    "version": 3
   },
   "file_extension": ".py",
   "mimetype": "text/x-python",
   "name": "python",
   "nbconvert_exporter": "python",
   "pygments_lexer": "ipython3",
   "version": "3.12.7"
  }
 },
 "nbformat": 4,
 "nbformat_minor": 5
}
