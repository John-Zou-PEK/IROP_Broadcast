{
 "cells": [
  {
   "cell_type": "markdown",
   "id": "a6653b20",
   "metadata": {},
   "source": [
    "# IROP Project File"
   ]
  },
  {
   "cell_type": "markdown",
   "id": "91c28f75",
   "metadata": {},
   "source": [
    "## Generalisation to Weighted Graph\n",
    "\n",
    "The following produces illustrations for weighted graphs with the following rule:\n",
    "\n",
    "Suppose the euclidian distance between two nodes is $d < R$ then the weight between the two nodes is given by $1-\\frac{d}{R}$ for $R$ the radius defined in the full set of notes. "
   ]
  },
  {
   "cell_type": "code",
   "execution_count": 114,
   "id": "b7d36a3f",
   "metadata": {},
   "outputs": [
    {
     "data": {
      "text/plain": [
       "[array([0.34705006, 0.10112003]),\n",
       " array([0.78269651, 0.92831339]),\n",
       " array([0.43650058, 0.10612372]),\n",
       " array([0.09882804, 0.87431397]),\n",
       " array([0.00153637, 0.51695285])]"
      ]
     },
     "execution_count": 114,
     "metadata": {},
     "output_type": "execute_result"
    }
   ],
   "source": [
    "import numpy as np\n",
    "\n",
    "\n",
    "#Generates N nodes and returns an array of tuples of their position.\n",
    "def N_node_gen(N):\n",
    "    node_list = list()\n",
    "    for _ in range(N):\n",
    "        node_list.append(np.array((np.random.random(), np.random.random())))\n",
    "    return node_list\n",
    "\n",
    "test_nodes = N_node_gen(5)\n",
    "test_nodes"
   ]
  },
  {
   "cell_type": "code",
   "execution_count": 115,
   "id": "a7f34897",
   "metadata": {},
   "outputs": [
    {
     "data": {
      "text/plain": [
       "array([[0.        , 0.        , 0.82081929, 0.        , 0.        ],\n",
       "       [0.        , 0.        , 0.        , 0.        , 0.        ],\n",
       "       [0.82081929, 0.        , 0.        , 0.        , 0.        ],\n",
       "       [0.        , 0.        , 0.        , 0.        , 0.2592635 ],\n",
       "       [0.        , 0.        , 0.        , 0.2592635 , 0.        ]])"
      ]
     },
     "execution_count": 115,
     "metadata": {},
     "output_type": "execute_result"
    }
   ],
   "source": [
    "import numpy as np\n",
    "\n",
    "#Returns adjacency matrix of the generated graph\n",
    "\n",
    "def adj_mat_gen(node_list, R):\n",
    "    N = len(node_list)\n",
    "    adj_mat = np.zeros((N, N), dtype=np.float64)\n",
    "    for i in range(N):\n",
    "        for j in range(i+1, N):\n",
    "            dist = np.linalg.norm(node_list[i]-node_list[j])\n",
    "            if dist < R:\n",
    "                adj_mat[i, j] = 1 - dist/R\n",
    "                adj_mat[j, i] = 1 - dist/R\n",
    "    return adj_mat\n",
    "\n",
    "test_adj_mat = adj_mat_gen(test_nodes, 0.5)\n",
    "\n",
    "test_adj_mat"
   ]
  },
  {
   "cell_type": "code",
   "execution_count": 116,
   "id": "e668ddd5",
   "metadata": {},
   "outputs": [
    {
     "data": {
      "text/plain": [
       "array([[1.        , 0.        , 0.        , 0.        , 0.        ],\n",
       "       [0.        , 1.        , 0.        , 0.        , 0.        ],\n",
       "       [0.41040965, 0.        , 0.58959035, 0.        , 0.        ],\n",
       "       [0.        , 0.        , 0.        , 1.        , 0.        ],\n",
       "       [0.        , 0.        , 0.        , 0.        , 1.        ]])"
      ]
     },
     "execution_count": 116,
     "metadata": {},
     "output_type": "execute_result"
    }
   ],
   "source": [
    "#Produces the matrix W(i)\n",
    "\n",
    "def W_i_gen(i, adj_mat, gamma):\n",
    "    i -= 1\n",
    "    W_i = np.zeros(np.shape(adj_mat), dtype=np.float64)\n",
    "    N = np.shape(adj_mat)[0]\n",
    "    for j in range(N):\n",
    "        if adj_mat[i, j]:\n",
    "            val = adj_mat[i, j].item()\n",
    "            W_i[j, j] = 1 - gamma * val\n",
    "            W_i[j, i] = gamma * val\n",
    "        else:\n",
    "            W_i[j, j] = 1\n",
    "    return W_i\n",
    "\n",
    "test_W_1 = W_i_gen(1, test_adj_mat, 0.5)\n",
    "\n",
    "test_W_1"
   ]
  },
  {
   "cell_type": "code",
   "execution_count": 117,
   "id": "684b7af0",
   "metadata": {},
   "outputs": [
    {
     "data": {
      "text/plain": [
       "array([0.5367776 , 0.03033502, 0.94574235, 0.27415779, 0.88978026])"
      ]
     },
     "execution_count": 117,
     "metadata": {},
     "output_type": "execute_result"
    }
   ],
   "source": [
    "#A single step of the simulation\n",
    "\n",
    "def update_step(x, adj_mat, gamma):\n",
    "    N = len(x)\n",
    "    i = np.random.randint(N, size=1)\n",
    "    W_i = W_i_gen(i, adj_mat, gamma)\n",
    "    return np.matmul(W_i, x)\n",
    "\n",
    "test_x = np.random.random(size=5)\n",
    "update_step(test_x, test_adj_mat, 0.5)"
   ]
  },
  {
   "cell_type": "code",
   "execution_count": 118,
   "id": "2a3ecc9c",
   "metadata": {},
   "outputs": [
    {
     "data": {
      "text/plain": [
       "array([[0.00293312, 0.19938823, 0.11520891, 0.66191192, 0.68504459],\n",
       "       [0.00293312, 0.19938823, 0.11520891, 0.66491065, 0.68504459],\n",
       "       [0.00293312, 0.19938823, 0.11520891, 0.66491065, 0.68243459],\n",
       "       [0.00293312, 0.19938823, 0.11520891, 0.66718231, 0.68243459],\n",
       "       [0.04901219, 0.19938823, 0.11520891, 0.66718231, 0.68243459],\n",
       "       [0.04901219, 0.19938823, 0.08804114, 0.66718231, 0.68243459],\n",
       "       [0.04901219, 0.19938823, 0.08804114, 0.66718231, 0.68243459],\n",
       "       [0.06503005, 0.19938823, 0.08804114, 0.66718231, 0.68243459],\n",
       "       [0.06503005, 0.19938823, 0.08804114, 0.66915949, 0.68243459],\n",
       "       [0.06503005, 0.19938823, 0.07859716, 0.66915949, 0.68243459],\n",
       "       [0.06503005, 0.19938823, 0.07302909, 0.66915949, 0.68243459]])"
      ]
     },
     "execution_count": 118,
     "metadata": {},
     "output_type": "execute_result"
    }
   ],
   "source": [
    "import numpy as np\n",
    "\n",
    "def simulate(x_0, adj_mat, gamma, time):\n",
    "    x_list = [x_0]\n",
    "    for t in range(1, time+1):\n",
    "        x_list.append(update_step(x_list[-1], adj_mat, gamma))\n",
    "    return np.array(x_list)\n",
    "\n",
    "test_x = np.random.random(size=5)\n",
    "test_simulation = simulate(test_x, test_adj_mat, 0.5, 10)\n",
    "test_simulation"
   ]
  },
  {
   "cell_type": "markdown",
   "id": "a368e625",
   "metadata": {},
   "source": [
    "# This Cell sets up the rest of the simulations in this section!"
   ]
  },
  {
   "cell_type": "code",
   "execution_count": 119,
   "id": "6694832a",
   "metadata": {},
   "outputs": [],
   "source": [
    "N = 50\n",
    "R = 2*np.sqrt(np.log(N)/N)\n",
    "time = 1000\n",
    "gamma = 0.5\n",
    "\n",
    "node_list = N_node_gen(N)\n",
    "adj_mat = adj_mat_gen(node_list, R)\n",
    "\n",
    "x_0 = np.random.random(N)"
   ]
  },
  {
   "cell_type": "code",
   "execution_count": 120,
   "id": "55e42f70",
   "metadata": {},
   "outputs": [
    {
     "name": "stdout",
     "output_type": "stream",
     "text": [
      "0.04334001867830338\n"
     ]
    }
   ],
   "source": [
    "#The following code investigates convergence in expectation to the initial value\n",
    "\n",
    "simulate_num = 1000\n",
    "desired_x = 1/N * np.sum(x_0) * np.ones(N)\n",
    "\n",
    "x = np.zeros(N)\n",
    "for _ in range(simulate_num):\n",
    "    x += simulate(x_0, adj_mat, gamma, time = 100)[-1]\n",
    "x /= simulate_num\n",
    "\n",
    "print(np.linalg.norm(x - desired_x))"
   ]
  },
  {
   "cell_type": "code",
   "execution_count": 121,
   "id": "fd7fc04b",
   "metadata": {},
   "outputs": [],
   "source": [
    "#Convergence in expectation data generation\n",
    "\n",
    "sim_num = 1000\n",
    "\n",
    "desired_x = np.mean(x_0) * np.ones(N)\n",
    "\n",
    "node_list = N_node_gen(N)\n",
    "adj_mat = adj_mat_gen(node_list, R)\n",
    "\n",
    "t_array = np.array([_ for _ in range(time+1)])\n",
    "x_array = np.zeros((time+1, N))\n",
    "\n",
    "for _ in range(sim_num):\n",
    "    x_array += simulate(x_0, adj_mat, gamma, time)\n",
    "\n",
    "x_array /= sim_num\n",
    "x_array -= desired_x\n",
    "\n",
    "plot_vals = np.linalg.norm(x_array, axis=1)"
   ]
  },
  {
   "cell_type": "code",
   "execution_count": 122,
   "id": "64353d5a",
   "metadata": {},
   "outputs": [
    {
     "data": {
      "text/plain": [
       "<matplotlib.collections.LineCollection at 0x132c02360>"
      ]
     },
     "execution_count": 122,
     "metadata": {},
     "output_type": "execute_result"
    },
    {
     "data": {
      "image/png": "[encoded data removed]",
      "text/plain": [
       "<Figure size 640x480 with 1 Axes>"
      ]
     },
     "metadata": {},
     "output_type": "display_data"
    }
   ],
   "source": [
    "#Convergence in expectation plot\n",
    "\n",
    "import matplotlib.pyplot as plt\n",
    "\n",
    "plt.plot(t_array, plot_vals)\n",
    "plt.hlines(0, 0, 1000, colors='r')"
   ]
  },
  {
   "cell_type": "code",
   "execution_count": 123,
   "id": "11562034",
   "metadata": {},
   "outputs": [],
   "source": [
    "#Convergence in second moment data generation\n",
    "\n",
    "t = time\n",
    "sim_num = 1000\n",
    "\n",
    "x_0 = np.random.random(N)\n",
    "beta_matrix = np.identity(N) - 1/N * np.ones((N, N))\n",
    "t_array = np.array([_ for _ in range(t+1)])\n",
    "beta_arr = np.zeros((t+1, N), dtype=np.float64)\n",
    "\n",
    "for _ in range(sim_num):\n",
    "    output = simulate(x_0, adj_mat, gamma, t)\n",
    "    for i in range(t+1):\n",
    "        beta_arr[i] += beta_matrix@output[i]\n",
    "\n",
    "plot_vals_2 = np.linalg.norm(beta_arr, axis=1)\n",
    "plot_vals_2 /= sim_num"
   ]
  },
  {
   "cell_type": "code",
   "execution_count": 124,
   "id": "b2b7c659",
   "metadata": {},
   "outputs": [
    {
     "data": {
      "text/plain": [
       "<matplotlib.collections.LineCollection at 0x1324baba0>"
      ]
     },
     "execution_count": 124,
     "metadata": {},
     "output_type": "execute_result"
    },
    {
     "data": {
      "image/png": "[encoded data removed]",
      "text/plain": [
       "<Figure size 640x480 with 1 Axes>"
      ]
     },
     "metadata": {},
     "output_type": "display_data"
    }
   ],
   "source": [
    "#Convergence in second moment plot\n",
    "\n",
    "import matplotlib.pyplot as plt\n",
    "\n",
    "plt.plot(t_array, plot_vals_2)\n",
    "plt.hlines(0, 0, 1000, colors='r')"
   ]
  },
  {
   "cell_type": "code",
   "execution_count": 125,
   "id": "ede0840c",
   "metadata": {},
   "outputs": [],
   "source": [
    "#Mean Square Error Data Generation\n",
    "\n",
    "t = time\n",
    "sim_num = 1000\n",
    "\n",
    "x_0 = np.random.random(N)\n",
    "J = np.ones([N, N])\n",
    "x_expected = np.mean(x_0) * np.ones(N)\n",
    "t_array = np.array([_ for _ in range(t+1)])\n",
    "alpha_arr = np.zeros((t+1, N), dtype=np.float64)\n",
    "\n",
    "for _ in range(sim_num):\n",
    "    output = simulate(x_0, adj_mat, gamma, t)\n",
    "    for i in range(t+1):\n",
    "        alpha_arr[i] += output[i] - x_expected\n",
    "    alpha_arr[-1]\n",
    "\n",
    "plot_vals_3 = np.linalg.norm(alpha_arr, axis=1)\n",
    "plot_vals_3 /= sim_num"
   ]
  },
  {
   "cell_type": "code",
   "execution_count": 126,
   "id": "3816e5b0",
   "metadata": {},
   "outputs": [
    {
     "data": {
      "text/plain": [
       "<matplotlib.collections.LineCollection at 0x132720f80>"
      ]
     },
     "execution_count": 126,
     "metadata": {},
     "output_type": "execute_result"
    },
    {
     "data": {
      "image/png": "[encoded data removed]",
      "text/plain": [
       "<Figure size 640x480 with 1 Axes>"
      ]
     },
     "metadata": {},
     "output_type": "display_data"
    }
   ],
   "source": [
    "#Mean Square Error plot\n",
    "\n",
    "import matplotlib.pyplot as plt\n",
    "\n",
    "plt.plot(t_array, plot_vals_3)\n",
    "plt.hlines(0, 0, 1000, colors='r')"
   ]
  },
  {
   "cell_type": "code",
   "execution_count": 127,
   "id": "f01d541a",
   "metadata": {},
   "outputs": [
    {
     "data": {
      "text/plain": [
       "array([[0.9448654 , 0.2596068 , 0.21949941, 0.34176894, 0.41038466],\n",
       "       [0.9448654 , 0.2596068 , 0.51719661, 0.34176894, 0.41038466],\n",
       "       [0.769346  , 0.2596068 , 0.51719661, 0.34176894, 0.41038466],\n",
       "       ...,\n",
       "       [0.61640279, 0.2596068 , 0.61640279, 0.36675898, 0.36675898],\n",
       "       [0.61640279, 0.2596068 , 0.61640279, 0.36675898, 0.36675898],\n",
       "       [0.61640279, 0.2596068 , 0.61640279, 0.36675898, 0.36675898]],\n",
       "      shape=(5001, 5))"
      ]
     },
     "execution_count": 127,
     "metadata": {},
     "output_type": "execute_result"
    }
   ],
   "source": [
    "import numpy as np\n",
    "\n",
    "def simulate_cutoff_at_conv(x_0, adj_mat, gamma, eps=0.01, t_max = 5000):\n",
    "    x_list = [x_0]\n",
    "    t = 1\n",
    "    N = len(x_0)\n",
    "    while True:\n",
    "        x_list.append(update_step(x_list[-1], adj_mat, gamma))\n",
    "        if np.linalg.norm(x_list[-1] - np.mean(x_list[-1]) * np.ones(N))**2/N < eps or t >= t_max:\n",
    "            break\n",
    "        t += 1\n",
    "    return np.array(x_list)\n",
    "\n",
    "test_x = np.random.random(size=5)\n",
    "test_simulation = simulate_cutoff_at_conv(test_x, test_adj_mat, 0.5)\n",
    "test_simulation"
   ]
  },
  {
   "cell_type": "code",
   "execution_count": 128,
   "id": "e5af0d3d",
   "metadata": {},
   "outputs": [
    {
     "data": {
      "text/plain": [
       "np.float64(0.03841169394378666)"
      ]
     },
     "execution_count": 128,
     "metadata": {},
     "output_type": "execute_result"
    }
   ],
   "source": [
    "import numpy as np\n",
    "\n",
    "def simulate_return_var(x_0, adj_mat, gamma, t):\n",
    "    x_list = [x_0]\n",
    "    N = len(x_0)\n",
    "    for t in range(1, t+1):\n",
    "        x_list.append(update_step(x_list[-1], adj_mat, gamma))\n",
    "    return np.linalg.norm(x_list[-1] - np.mean(x_list[-1]) * np.ones(N))**2/N\n",
    "\n",
    "test_x = np.random.random(size=5)\n",
    "test_simulation = simulate_return_var(test_x, test_adj_mat, 0.5, 5)\n",
    "test_simulation"
   ]
  },
  {
   "cell_type": "code",
   "execution_count": 129,
   "id": "200fd012",
   "metadata": {},
   "outputs": [
    {
     "data": {
      "text/plain": [
       "array([7.66492199e-03, 6.17601737e-05, 1.26077855e-05, 1.08163962e-06,\n",
       "       2.43523517e-07, 1.36168896e-08, 2.13425270e-10, 8.37050300e-09,\n",
       "       5.75860993e-10, 7.10294122e-11, 1.49920028e-13, 3.82498983e-13,\n",
       "       1.35919187e-15, 1.95764520e-14, 8.97776227e-16, 2.07800684e-17,\n",
       "       9.69666226e-19, 2.23610438e-18, 2.73582021e-20, 3.23637101e-21,\n",
       "       3.72186290e-22, 2.20643394e-20, 1.04876867e-24, 5.83467645e-24,\n",
       "       2.05139180e-23, 4.80133491e-27, 1.97557888e-28, 5.19171450e-27,\n",
       "       7.53290674e-29, 4.71948363e-30, 3.93340838e-29, 2.45532957e-31,\n",
       "       1.94750036e-32, 1.04339181e-31, 1.12782458e-32, 1.60237371e-32,\n",
       "       2.09541178e-33, 2.46519033e-34, 7.95023881e-33, 6.16297582e-33,\n",
       "       7.14905195e-33, 9.36772325e-33, 1.25724707e-32, 1.06003184e-32,\n",
       "       5.17689969e-33, 1.38050658e-32, 3.88267477e-33, 5.30015921e-33,\n",
       "       7.39557099e-33, 1.33120278e-32, 1.81191489e-32, 8.62816615e-33,\n",
       "       8.13512809e-33, 4.00593428e-33, 2.15704154e-33, 1.54074396e-33,\n",
       "       1.15863945e-32, 9.18283397e-33, 1.97215226e-33, 1.62702562e-32,\n",
       "       1.33120278e-32, 3.20474743e-33, 8.81305543e-33, 1.72563323e-33,\n",
       "       1.18329136e-32, 9.42935301e-33, 2.65007960e-33, 1.97215226e-33,\n",
       "       5.17689969e-33, 1.72563323e-33, 1.57155883e-32, 7.39557099e-33,\n",
       "       2.46519033e-34, 8.87468518e-33, 9.86076132e-34, 3.32800694e-33,\n",
       "       2.71170936e-33, 3.20474743e-33, 1.72563323e-32, 3.59917788e-32,\n",
       "       1.25724707e-32, 5.66993776e-33, 3.26637719e-33, 9.61424228e-33,\n",
       "       2.71170936e-33, 9.61424228e-33, 5.17689969e-33, 2.28030105e-33,\n",
       "       1.15863945e-32, 5.05364017e-32, 4.68386162e-33, 1.42981039e-32,\n",
       "       2.46519033e-33, 1.57772181e-32, 1.23259516e-33, 5.17689969e-33,\n",
       "       8.13512809e-33, 3.45126646e-33, 1.52841800e-32])"
      ]
     },
     "execution_count": 129,
     "metadata": {},
     "output_type": "execute_result"
    }
   ],
   "source": [
    "t_array = np.arange(50, 5000, 50, dtype=np.int64)\n",
    "var_array = np.zeros(t_array.shape, dtype=np.float64)\n",
    "\n",
    "for i in range(len(var_array)):\n",
    "    var_array[i] = simulate_return_var(x_0, adj_mat, gamma, t_array[i])\n",
    "\n",
    "var_array"
   ]
  },
  {
   "cell_type": "code",
   "execution_count": 130,
   "id": "00d86e1d",
   "metadata": {},
   "outputs": [
    {
     "data": {
      "text/plain": [
       "[<matplotlib.lines.Line2D at 0x132c3c560>]"
      ]
     },
     "execution_count": 130,
     "metadata": {},
     "output_type": "execute_result"
    },
    {
     "data": {
      "image/png": "[encoded data removed]",
      "text/plain": [
       "<Figure size 640x480 with 1 Axes>"
      ]
     },
     "metadata": {},
     "output_type": "display_data"
    }
   ],
   "source": [
    "plt.semilogy(t_array, var_array)"
   ]
  }
 ],
 "metadata": {
  "kernelspec": {
   "display_name": "IROP_venv (3.12.7)",
   "language": "python",
   "name": "python3"
  },
  "language_info": {
   "codemirror_mode": {
    "name": "ipython",
    "version": 3
   },
   "file_extension": ".py",
   "mimetype": "text/x-python",
   "name": "python",
   "nbconvert_exporter": "python",
   "pygments_lexer": "ipython3",
   "version": "3.12.7"
  }
 },
 "nbformat": 4,
 "nbformat_minor": 5
}
