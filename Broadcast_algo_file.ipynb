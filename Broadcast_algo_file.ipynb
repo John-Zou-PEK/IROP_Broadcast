{
 "cells": [
  {
   "cell_type": "code",
   "execution_count": 3,
   "id": "b7d36a3f",
   "metadata": {},
   "outputs": [
    {
     "data": {
      "text/plain": [
       "[array([0.41445593, 0.62626048]),\n",
       " array([0.8189678 , 0.48445324]),\n",
       " array([0.9100902 , 0.57530345]),\n",
       " array([0.03192033, 0.57278794]),\n",
       " array([0.80916519, 0.95000723])]"
      ]
     },
     "execution_count": 3,
     "metadata": {},
     "output_type": "execute_result"
    }
   ],
   "source": [
    "import numpy as np\n",
    "\n",
    "\n",
    "#Generates N nodes and returns an array of tuples of their position.\n",
    "def N_node_gen(N):\n",
    "    node_list = list()\n",
    "    for _ in range(N):\n",
    "        node_list.append(np.array((np.random.random(), np.random.random())))\n",
    "    return node_list\n",
    "\n",
    "test_nodes = N_node_gen(5)\n",
    "test_nodes"
   ]
  },
  {
   "cell_type": "code",
   "execution_count": 4,
   "id": "a7f34897",
   "metadata": {},
   "outputs": [
    {
     "data": {
      "text/plain": [
       "array([[0.        , 0.1427039 , 0.00350624, 0.22749033, 0.        ],\n",
       "       [0.1427039 , 0.        , 0.74265157, 0.        , 0.06868564],\n",
       "       [0.00350624, 0.74265157, 0.        , 0.        , 0.2238846 ],\n",
       "       [0.22749033, 0.        , 0.        , 0.        , 0.        ],\n",
       "       [0.        , 0.06868564, 0.2238846 , 0.        , 0.        ]])"
      ]
     },
     "execution_count": 4,
     "metadata": {},
     "output_type": "execute_result"
    }
   ],
   "source": [
    "import numpy as np\n",
    "\n",
    "#Returns adjacency matrix of the generated graph\n",
    "\n",
    "def adj_mat_gen(node_list, R):\n",
    "    N = len(node_list)\n",
    "    adj_mat = np.zeros((N, N), dtype=np.float64)\n",
    "    for i in range(N):\n",
    "        for j in range(i+1, N):\n",
    "            dist = np.linalg.norm(node_list[i]-node_list[j])\n",
    "            if dist < R:\n",
    "                adj_mat[i, j] = 1 - dist/R\n",
    "                adj_mat[j, i] = 1 - dist/R\n",
    "    return adj_mat\n",
    "\n",
    "test_adj_mat = adj_mat_gen(test_nodes, 0.5)\n",
    "\n",
    "test_adj_mat"
   ]
  },
  {
   "cell_type": "code",
   "execution_count": 5,
   "id": "e668ddd5",
   "metadata": {},
   "outputs": [
    {
     "data": {
      "text/plain": [
       "array([[1.        , 0.        , 0.        , 0.        , 0.        ],\n",
       "       [0.92864805, 0.07135195, 0.        , 0.        , 0.        ],\n",
       "       [0.99824688, 0.        , 0.00175312, 0.        , 0.        ],\n",
       "       [0.88625483, 0.        , 0.        , 0.11374517, 0.        ],\n",
       "       [0.        , 0.        , 0.        , 0.        , 1.        ]])"
      ]
     },
     "execution_count": 5,
     "metadata": {},
     "output_type": "execute_result"
    }
   ],
   "source": [
    "#Produces the matrix W(i)\n",
    "\n",
    "def W_i_gen(i, adj_mat, gamma):\n",
    "    i -= 1\n",
    "    W_i = np.zeros(np.shape(adj_mat), dtype=np.float64)\n",
    "    N = np.shape(adj_mat)[0]\n",
    "    for j in range(N):\n",
    "        if adj_mat[i, j]:\n",
    "            val = adj_mat[i, j].item()\n",
    "            W_i[j, j] = gamma * val\n",
    "            W_i[j, i] = 1 - gamma * val\n",
    "        else:\n",
    "            W_i[j, j] = 1\n",
    "    return W_i\n",
    "\n",
    "test_W_1 = W_i_gen(1, test_adj_mat, 0.5)\n",
    "\n",
    "test_W_1"
   ]
  },
  {
   "cell_type": "code",
   "execution_count": 6,
   "id": "684b7af0",
   "metadata": {},
   "outputs": [
    {
     "data": {
      "text/plain": [
       "array([0.42527858, 0.41792373, 0.35405713, 0.20192901, 0.42143132])"
      ]
     },
     "execution_count": 6,
     "metadata": {},
     "output_type": "execute_result"
    }
   ],
   "source": [
    "#A single step of the simulation\n",
    "\n",
    "def update_step(x, adj_mat, gamma):\n",
    "    N = len(x)\n",
    "    i = np.random.randint(N, size=1)\n",
    "    W_i = W_i_gen(i, adj_mat, gamma)\n",
    "    return np.matmul(W_i, x)\n",
    "\n",
    "test_x = np.random.random(size=5)\n",
    "update_step(test_x, test_adj_mat, 0.5)"
   ]
  },
  {
   "cell_type": "code",
   "execution_count": 7,
   "id": "2a3ecc9c",
   "metadata": {},
   "outputs": [
    {
     "data": {
      "text/plain": [
       "array([[0.22158854, 0.81216728, 0.14598732, 0.8398134 , 0.74813321],\n",
       "       [0.22158854, 0.75033232, 0.68072762, 0.8398134 , 0.74813321],\n",
       "       [0.67992269, 0.70657364, 0.68072762, 0.8398134 , 0.68827316],\n",
       "       [0.82162661, 0.70657364, 0.68072762, 0.8398134 , 0.68827316],\n",
       "       [0.71478289, 0.70657364, 0.69697635, 0.8398134 , 0.70594515],\n",
       "       [0.70715939, 0.70657364, 0.70300992, 0.8398134 , 0.70655206],\n",
       "       [0.70301719, 0.70433322, 0.70300992, 0.8398134 , 0.70340643],\n",
       "       [0.70423932, 0.70433322, 0.70384184, 0.8398134 , 0.70430139],\n",
       "       [0.70423932, 0.70424602, 0.70423862, 0.71966021, 0.70430139],\n",
       "       [0.70423932, 0.70429949, 0.70429436, 0.71966021, 0.70430139],\n",
       "       [0.71790616, 0.70429949, 0.70429436, 0.71966021, 0.70430139]])"
      ]
     },
     "execution_count": 7,
     "metadata": {},
     "output_type": "execute_result"
    }
   ],
   "source": [
    "import numpy as np\n",
    "\n",
    "def simulate(x_0, adj_mat, gamma, time):\n",
    "    x_list = [x_0]\n",
    "    for t in range(1, time+1):\n",
    "        x_list.append(update_step(x_list[-1], adj_mat, gamma))\n",
    "    return np.array(x_list)\n",
    "\n",
    "test_x = np.random.random(size=5)\n",
    "test_simulation = simulate(test_x, test_adj_mat, 0.5, 10)\n",
    "test_simulation"
   ]
  },
  {
   "cell_type": "code",
   "execution_count": 8,
   "id": "55e42f70",
   "metadata": {},
   "outputs": [
    {
     "name": "stdout",
     "output_type": "stream",
     "text": [
      "0.05659452195902393\n"
     ]
    }
   ],
   "source": [
    "#The following code investigates convergence in expectation to the initial value\n",
    "\n",
    "simulate_num = 1000\n",
    "N = 50\n",
    "R = 2*np.sqrt(np.log(N)/N)\n",
    "time = 10000\n",
    "gamma = 0.5\n",
    "\n",
    "node_list = N_node_gen(N)\n",
    "adj_mat = adj_mat_gen(node_list, R)\n",
    "\n",
    "x_0 = np.random.random(N)\n",
    "desired_x = 1/N * np.sum(x_0) * np.ones(N)\n",
    "\n",
    "x = np.zeros(N)\n",
    "for _ in range(simulate_num):\n",
    "    x += simulate(x_0, adj_mat, gamma, time = 100)[-1]\n",
    "x /= simulate_num\n",
    "\n",
    "print(np.linalg.norm(x - desired_x))"
   ]
  },
  {
   "cell_type": "code",
   "execution_count": null,
   "id": "fd7fc04b",
   "metadata": {},
   "outputs": [],
   "source": [
    "#Convergence in expectation data generation\n",
    "\n",
    "N = 100\n",
    "R = np.sqrt(np.log(N)/N)\n",
    "t = 1000\n",
    "gamma = 0.5\n",
    "sim_num = 1000\n",
    "\n",
    "x_0 = np.random.random(N)\n",
    "desired_x = np.mean(x_0) * np.ones(N)\n",
    "\n",
    "node_list = N_node_gen(N)\n",
    "adj_mat = adj_mat_gen(node_list, R)\n",
    "\n",
    "t_array = np.array([_ for _ in range(t+1)])\n",
    "x_array = np.zeros((t+1, N))\n",
    "\n",
    "for _ in range(sim_num):\n",
    "    x_array += simulate(x_0, adj_mat, gamma, t)\n",
    "\n",
    "x_array /= sim_num\n",
    "x_array -= desired_x\n",
    "\n",
    "plot_vals = np.linalg.norm(x_array, axis=1)"
   ]
  },
  {
   "cell_type": "code",
   "execution_count": null,
   "id": "64353d5a",
   "metadata": {},
   "outputs": [
    {
     "data": {
      "text/plain": [
       "<matplotlib.collections.LineCollection at 0x1310cd5b0>"
      ]
     },
     "execution_count": 27,
     "metadata": {},
     "output_type": "execute_result"
    },
    {
     "data": {
      "image/png": "[encoded data removed]",
      "text/plain": [
       "<Figure size 640x480 with 1 Axes>"
      ]
     },
     "metadata": {},
     "output_type": "display_data"
    }
   ],
   "source": [
    "#Convergence in expectation plot\n",
    "\n",
    "import matplotlib.pyplot as plt\n",
    "\n",
    "plt.plot(t_array, plot_vals)\n",
    "plt.hlines(0, 0, 1000, colors='r')"
   ]
  },
  {
   "cell_type": "code",
   "execution_count": 38,
   "id": "11562034",
   "metadata": {},
   "outputs": [],
   "source": [
    "#Convergence in second moment data generation\n",
    "\n",
    "N = 100\n",
    "R = np.sqrt(np.log(N)/N)\n",
    "t = 1000\n",
    "gamma = 0.5\n",
    "sim_num = 1000\n",
    "\n",
    "x_0 = np.random.random(N)\n",
    "beta_matrix = np.identity(N) - 1/N * np.ones((N, N))\n",
    "t_array = np.array([_ for _ in range(t+1)])\n",
    "beta_arr = np.zeros((t+1, N), dtype=np.float64)\n",
    "\n",
    "for _ in range(sim_num):\n",
    "    output = simulate(x_0, adj_mat, gamma, t)\n",
    "    for i in range(t+1):\n",
    "        beta_arr[i] += beta_matrix@output[i]\n",
    "\n",
    "plot_vals_2 = np.linalg.norm(beta_arr, axis=1)\n",
    "plot_vals_2 /= sim_num"
   ]
  },
  {
   "cell_type": "code",
   "execution_count": 39,
   "id": "b2b7c659",
   "metadata": {},
   "outputs": [
    {
     "data": {
      "text/plain": [
       "<matplotlib.collections.LineCollection at 0x1321e9df0>"
      ]
     },
     "execution_count": 39,
     "metadata": {},
     "output_type": "execute_result"
    },
    {
     "data": {
      "image/png": "[encoded data removed]",
      "text/plain": [
       "<Figure size 640x480 with 1 Axes>"
      ]
     },
     "metadata": {},
     "output_type": "display_data"
    }
   ],
   "source": [
    "#Convergence in second moment plot\n",
    "\n",
    "import matplotlib.pyplot as plt\n",
    "\n",
    "plt.plot(t_array, plot_vals_2)\n",
    "plt.hlines(0, 0, 1000, colors='r')"
   ]
  }
 ],
 "metadata": {
  "kernelspec": {
   "display_name": "IROP_venv",
   "language": "python",
   "name": "python3"
  },
  "language_info": {
   "codemirror_mode": {
    "name": "ipython",
    "version": 3
   },
   "file_extension": ".py",
   "mimetype": "text/x-python",
   "name": "python",
   "nbconvert_exporter": "python",
   "pygments_lexer": "ipython3",
   "version": "3.12.7"
  }
 },
 "nbformat": 4,
 "nbformat_minor": 5
}
