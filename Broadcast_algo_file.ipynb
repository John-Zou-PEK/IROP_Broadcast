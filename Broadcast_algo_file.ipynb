{
 "cells": [
  {
   "cell_type": "code",
   "execution_count": 9,
   "id": "b7d36a3f",
   "metadata": {},
   "outputs": [
    {
     "data": {
      "text/plain": [
       "[array([0.05400742, 0.63444603]),\n",
       " array([0.12860957, 0.06762378]),\n",
       " array([0.35429638, 0.26400617]),\n",
       " array([0.45346923, 0.52606854]),\n",
       " array([0.88496425, 0.28261421])]"
      ]
     },
     "execution_count": 9,
     "metadata": {},
     "output_type": "execute_result"
    }
   ],
   "source": [
    "import numpy as np\n",
    "\n",
    "\n",
    "#Generates N nodes and returns an array of tuples of their position.\n",
    "def N_node_gen(N):\n",
    "    node_list = list()\n",
    "    for _ in range(N):\n",
    "        node_list.append(np.array((np.random.random(), np.random.random())))\n",
    "    return node_list\n",
    "\n",
    "test_nodes = N_node_gen(5)\n",
    "test_nodes"
   ]
  },
  {
   "cell_type": "code",
   "execution_count": 11,
   "id": "a7f34897",
   "metadata": {},
   "outputs": [
    {
     "data": {
      "text/plain": [
       "array([[0.        , 0.        , 0.04627228, 0.17219468, 0.        ],\n",
       "       [0.        , 0.        , 0.40166704, 0.        , 0.        ],\n",
       "       [0.04627228, 0.40166704, 0.        , 0.43960038, 0.        ],\n",
       "       [0.17219468, 0.        , 0.43960038, 0.        , 0.00912571],\n",
       "       [0.        , 0.        , 0.        , 0.00912571, 0.        ]])"
      ]
     },
     "execution_count": 11,
     "metadata": {},
     "output_type": "execute_result"
    }
   ],
   "source": [
    "import numpy as np\n",
    "\n",
    "#Returns adjacency matrix of the generated graph\n",
    "\n",
    "def adj_mat_gen(node_list, R):\n",
    "    N = len(node_list)\n",
    "    adj_mat = np.zeros((N, N))\n",
    "    for i in range(N):\n",
    "        for j in range(i+1, N):\n",
    "            dist = np.linalg.norm(node_list[i]-node_list[j])\n",
    "            if dist < R:\n",
    "                adj_mat[i, j] = 1 - dist/R\n",
    "                adj_mat[j, i] = 1 - dist/R\n",
    "    return adj_mat\n",
    "\n",
    "test_adj_mat = adj_mat_gen(test_nodes, 0.5)\n",
    "\n",
    "test_adj_mat"
   ]
  }
 ],
 "metadata": {
  "kernelspec": {
   "display_name": "IROP_venv",
   "language": "python",
   "name": "python3"
  },
  "language_info": {
   "codemirror_mode": {
    "name": "ipython",
    "version": 3
   },
   "file_extension": ".py",
   "mimetype": "text/x-python",
   "name": "python",
   "nbconvert_exporter": "python",
   "pygments_lexer": "ipython3",
   "version": "3.12.7"
  }
 },
 "nbformat": 4,
 "nbformat_minor": 5
}
