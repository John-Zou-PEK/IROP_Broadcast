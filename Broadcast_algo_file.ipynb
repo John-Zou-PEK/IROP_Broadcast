{
 "cells": [
  {
   "cell_type": "code",
   "execution_count": 9,
   "id": "b7d36a3f",
   "metadata": {},
   "outputs": [
    {
     "data": {
      "text/plain": [
       "[array([0.05400742, 0.63444603]),\n",
       " array([0.12860957, 0.06762378]),\n",
       " array([0.35429638, 0.26400617]),\n",
       " array([0.45346923, 0.52606854]),\n",
       " array([0.88496425, 0.28261421])]"
      ]
     },
     "execution_count": 9,
     "metadata": {},
     "output_type": "execute_result"
    }
   ],
   "source": [
    "import numpy as np\n",
    "\n",
    "\n",
    "#Generates N nodes and returns an array of tuples of their position.\n",
    "def N_node_gen(N):\n",
    "    node_list = list()\n",
    "    for _ in range(N):\n",
    "        node_list.append(np.array((np.random.random(), np.random.random())))\n",
    "    return node_list\n",
    "\n",
    "test_nodes = N_node_gen(5)\n",
    "test_nodes"
   ]
  },
  {
   "cell_type": "code",
   "execution_count": 26,
   "id": "a7f34897",
   "metadata": {},
   "outputs": [
    {
     "data": {
      "text/plain": [
       "array([[0.        , 0.        , 0.04627228, 0.17219468, 0.        ],\n",
       "       [0.        , 0.        , 0.40166704, 0.        , 0.        ],\n",
       "       [0.04627228, 0.40166704, 0.        , 0.43960038, 0.        ],\n",
       "       [0.17219468, 0.        , 0.43960038, 0.        , 0.00912571],\n",
       "       [0.        , 0.        , 0.        , 0.00912571, 0.        ]])"
      ]
     },
     "execution_count": 26,
     "metadata": {},
     "output_type": "execute_result"
    }
   ],
   "source": [
    "import numpy as np\n",
    "\n",
    "#Returns adjacency matrix of the generated graph\n",
    "\n",
    "def adj_mat_gen(node_list, R):\n",
    "    N = len(node_list)\n",
    "    adj_mat = np.zeros((N, N), dtype=np.float64)\n",
    "    for i in range(N):\n",
    "        for j in range(i+1, N):\n",
    "            dist = np.linalg.norm(node_list[i]-node_list[j])\n",
    "            if dist < R:\n",
    "                adj_mat[i, j] = 1 - dist/R\n",
    "                adj_mat[j, i] = 1 - dist/R\n",
    "    return adj_mat\n",
    "\n",
    "test_adj_mat = adj_mat_gen(test_nodes, 0.5)\n",
    "\n",
    "test_adj_mat"
   ]
  },
  {
   "cell_type": "code",
   "execution_count": 29,
   "id": "e668ddd5",
   "metadata": {},
   "outputs": [
    {
     "data": {
      "text/plain": [
       "array([[1.        , 0.        , 0.        , 0.        , 0.        ],\n",
       "       [0.        , 1.        , 0.        , 0.        , 0.        ],\n",
       "       [0.97686386, 0.        , 0.02313614, 0.        , 0.        ],\n",
       "       [0.91390266, 0.        , 0.        , 0.08609734, 0.        ],\n",
       "       [0.        , 0.        , 0.        , 0.        , 1.        ]])"
      ]
     },
     "execution_count": 29,
     "metadata": {},
     "output_type": "execute_result"
    }
   ],
   "source": [
    "#Produces the matrix W(i)\n",
    "\n",
    "def W_i_gen(i, adj_mat, gamma):\n",
    "    i -= 1\n",
    "    W_i = np.zeros(np.shape(adj_mat), dtype=np.float64)\n",
    "    N = np.shape(adj_mat)[0]\n",
    "    for j in range(N):\n",
    "        if adj_mat[i, j]:\n",
    "            val = adj_mat[i, j].item()\n",
    "            W_i[j, j] = gamma * val\n",
    "            W_i[j, i] = 1 - gamma * val\n",
    "        else:\n",
    "            W_i[j, j] = 1\n",
    "    return W_i\n",
    "\n",
    "test_W_1 = W_i_gen(1, test_adj_mat, 0.5)\n",
    "\n",
    "test_W_1"
   ]
  },
  {
   "cell_type": "code",
   "execution_count": 30,
   "id": "684b7af0",
   "metadata": {},
   "outputs": [
    {
     "data": {
      "text/plain": [
       "array([0.61735218, 0.51062788, 0.74681145, 0.10324995, 0.102715  ])"
      ]
     },
     "execution_count": 30,
     "metadata": {},
     "output_type": "execute_result"
    }
   ],
   "source": [
    "#A single step of the simulation\n",
    "\n",
    "def update_step(x, adj_mat, gamma):\n",
    "    N = len(x)\n",
    "    i = np.random.randint(N, size=1)\n",
    "    W_i = W_i_gen(i, adj_mat, gamma)\n",
    "    return np.matmul(W_i, x)\n",
    "\n",
    "test_x = np.random.random(size=5)\n",
    "update_step(test_x, test_adj_mat, 0.5)"
   ]
  },
  {
   "cell_type": "code",
   "execution_count": 53,
   "id": "2a3ecc9c",
   "metadata": {},
   "outputs": [
    {
     "data": {
      "text/plain": [
       "[array([0.99257255, 0.04628024, 0.43924362, 0.73224156, 0.16080121]),\n",
       " array([0.99257255, 0.04628024, 0.97977065, 0.97015874, 0.16080121]),\n",
       " array([0.99257255, 0.04628024, 0.97977065, 0.16449419, 0.16080121]),\n",
       " array([0.98006684, 0.79229448, 0.97977065, 0.80057273, 0.16080121]),\n",
       " array([0.98006684, 0.79229448, 0.97977065, 0.16372039, 0.16080121]),\n",
       " array([0.9797775 , 0.94211915, 0.97977065, 0.80040265, 0.16080121]),\n",
       " array([0.81584635, 0.94211915, 0.83982777, 0.80040265, 0.79748424]),\n",
       " array([0.81584635, 0.94211915, 0.83982777, 0.79749756, 0.79748424]),\n",
       " array([0.81584635, 0.94211915, 0.92157561, 0.79749756, 0.79748424]),\n",
       " array([0.91912945, 0.92570145, 0.92157561, 0.89430323, 0.79748424]),\n",
       " array([0.89644071, 0.92570145, 0.90029771, 0.89430323, 0.89386146])]"
      ]
     },
     "execution_count": 53,
     "metadata": {},
     "output_type": "execute_result"
    }
   ],
   "source": [
    "def simulate(x_0, adj_mat, gamma, time):\n",
    "    x_list = [x_0]\n",
    "    for t in range(1, time+1):\n",
    "        x_list.append(update_step(x_list[-1], adj_mat, gamma))\n",
    "    return x_list\n",
    "\n",
    "test_x = np.random.random(size=5)\n",
    "test_simulation = simulate(test_x, test_adj_mat, 0.5, 10)\n",
    "test_simulation"
   ]
  },
  {
   "cell_type": "code",
   "execution_count": 45,
   "id": "55e42f70",
   "metadata": {},
   "outputs": [
    {
     "name": "stdout",
     "output_type": "stream",
     "text": [
      "0.0794229343524676\n"
     ]
    }
   ],
   "source": [
    "#The following code investigates convergence in expectation to the initial value\n",
    "\n",
    "simulate_num = 1000\n",
    "N = 50\n",
    "R = 2*np.sqrt(np.log(N)/N)\n",
    "time = 10000\n",
    "gamma = 0.5\n",
    "\n",
    "node_list = N_node_gen(N)\n",
    "adj_mat = adj_mat_gen(node_list, R)\n",
    "\n",
    "x_0 = np.random.random(N)\n",
    "desired_x = 1/N * np.sum(x_0) * np.ones(N)\n",
    "\n",
    "x = np.zeros(N)\n",
    "for _ in range(simulate_num):\n",
    "    x += simulate(x_0, adj_mat, gamma, time = 100)[-1]\n",
    "x /= simulate_num\n",
    "\n",
    "print(np.linalg.norm(x - desired_x))"
   ]
  },
  {
   "cell_type": "code",
   "execution_count": 69,
   "id": "161da786",
   "metadata": {},
   "outputs": [
    {
     "name": "stdout",
     "output_type": "stream",
     "text": [
      "x_list done\n"
     ]
    },
    {
     "data": {
      "text/plain": [
       "[<matplotlib.lines.Line2D at 0x10f5990d0>]"
      ]
     },
     "execution_count": 69,
     "metadata": {},
     "output_type": "execute_result"
    },
    {
     "data": {
      "image/png": "[encoded data removed]",
      "text/plain": [
       "<Figure size 640x480 with 1 Axes>"
      ]
     },
     "metadata": {},
     "output_type": "display_data"
    }
   ],
   "source": [
    "#Plots convergence in expectation as t goes to infty\n",
    "\n",
    "import matplotlib.pyplot as plt\n",
    "\n",
    "simulate_num = 100\n",
    "N = 50\n",
    "R = 2*np.sqrt(np.log(N)/N)\n",
    "time = 1000\n",
    "gamma = 0.5\n",
    "\n",
    "t_list = [10*t for t in range(0, 100, 1)]\n",
    "x_list = [np.zeros(N) for _ in range(0, 100, 1)]\n",
    "\n",
    "for _ in range(simulate_num):\n",
    "    x_obs = simulate(x_0, adj_mat, gamma, time)\n",
    "    for t in t_list:\n",
    "        x_list[t//100] += x_obs[t]\n",
    "\n",
    "for _ in range(len(x_list)):\n",
    "    x_list[_] /= simulate_num\n",
    "    x_list[_] -= desired_x\n",
    "\n",
    "x_plot_list = [np.linalg.norm(_) for _ in x_list]\n",
    "\n",
    "print(\"x_list done\")\n",
    "\n",
    "plt.plot(t_list, x_plot_list)"
   ]
  },
  {
   "cell_type": "code",
   "execution_count": 71,
   "id": "fd7fc04b",
   "metadata": {},
   "outputs": [
    {
     "name": "stdout",
     "output_type": "stream",
     "text": [
      "3.901072163169155\n"
     ]
    }
   ],
   "source": [
    "print(x_plot_list[-2])"
   ]
  }
 ],
 "metadata": {
  "kernelspec": {
   "display_name": "IROP_venv",
   "language": "python",
   "name": "python3"
  },
  "language_info": {
   "codemirror_mode": {
    "name": "ipython",
    "version": 3
   },
   "file_extension": ".py",
   "mimetype": "text/x-python",
   "name": "python",
   "nbconvert_exporter": "python",
   "pygments_lexer": "ipython3",
   "version": "3.12.7"
  }
 },
 "nbformat": 4,
 "nbformat_minor": 5
}
